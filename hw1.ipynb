{
  "nbformat": 4,
  "nbformat_minor": 0,
  "metadata": {
    "colab": {
      "provenance": [],
      "authorship_tag": "ABX9TyPcGnjuaezajNC9V/1+QpDC",
      "include_colab_link": true
    },
    "kernelspec": {
      "name": "python3",
      "display_name": "Python 3"
    },
    "language_info": {
      "name": "python"
    }
  },
  "cells": [
    {
      "cell_type": "markdown",
      "metadata": {
        "id": "view-in-github",
        "colab_type": "text"
      },
      "source": [
        "<a href=\"https://colab.research.google.com/github/jhbellingrath/CS-290-Classwork/blob/main/hw1.ipynb\" target=\"_parent\"><img src=\"https://colab.research.google.com/assets/colab-badge.svg\" alt=\"Open In Colab\"/></a>"
      ]
    },
    {
      "cell_type": "code",
      "execution_count": 10,
      "metadata": {
        "id": "lKdIjikSOUXH"
      },
      "outputs": [],
      "source": [
        "import pandas as pd\n",
        "import math"
      ]
    },
    {
      "cell_type": "code",
      "source": [
        "df = pd.read_csv('/content/drive/MyDrive/kaggle/breast-cancer.csv')"
      ],
      "metadata": {
        "id": "rye1pcAUQFhX"
      },
      "execution_count": 11,
      "outputs": []
    },
    {
      "cell_type": "code",
      "source": [
        "target=\"diagnosis\"\n",
        "attributes=df.columns\n",
        "attributes=attributes.delete(1)\n",
        "attributes"
      ],
      "metadata": {
        "colab": {
          "base_uri": "https://localhost:8080/"
        },
        "id": "uZS3ZdVxQkHX",
        "outputId": "be04d882-467c-4e36-a839-e4da4cb6d71b"
      },
      "execution_count": 43,
      "outputs": [
        {
          "output_type": "execute_result",
          "data": {
            "text/plain": [
              "Index(['id', 'radius_mean', 'texture_mean', 'perimeter_mean', 'area_mean',\n",
              "       'smoothness_mean', 'compactness_mean', 'concavity_mean',\n",
              "       'concave points_mean', 'symmetry_mean', 'fractal_dimension_mean',\n",
              "       'radius_se', 'texture_se', 'perimeter_se', 'area_se', 'smoothness_se',\n",
              "       'compactness_se', 'concavity_se', 'concave points_se', 'symmetry_se',\n",
              "       'fractal_dimension_se', 'radius_worst', 'texture_worst',\n",
              "       'perimeter_worst', 'area_worst', 'smoothness_worst',\n",
              "       'compactness_worst', 'concavity_worst', 'concave points_worst',\n",
              "       'symmetry_worst', 'fractal_dimension_worst'],\n",
              "      dtype='object')"
            ]
          },
          "metadata": {},
          "execution_count": 43
        }
      ]
    },
    {
      "cell_type": "code",
      "source": [
        "split_value=0\n",
        "split_attribute=0\n",
        "split_entropy=10\n",
        "for attribute in attributes:\n",
        "  vals = df[ attribute ].unique()\n",
        "  overall = len( df )\n",
        "  for val in vals:\n",
        "    entropy = 0\n",
        "    left = df[ df[attribute] <= val ][ [attribute,target] ]\n",
        "    props = left[ target ].value_counts( normalize = True )\n",
        "    weight = len( left ) / overall\n",
        "    for prop in props.array:\n",
        "      entropy = entropy - weight*prop*math.log2( prop )\n",
        "    right = df[ df[attribute] > val ][ [attribute,target] ]\n",
        "    props = right[ target ].value_counts( normalize = True )\n",
        "    weight = len( right ) / overall\n",
        "    for prop in props.array:\n",
        "      entropy = entropy - weight*prop*math.log2( prop )\n",
        "    if entropy < split_entropy:\n",
        "      split_entropy = entropy\n",
        "      split_value = val\n",
        "      split_attribute = attribute\n",
        "split_entropy, split_value, split_attribute"
      ],
      "metadata": {
        "colab": {
          "base_uri": "https://localhost:8080/"
        },
        "id": "4swexI8QQv8o",
        "outputId": "aebdb729-2a37-47ee-af30-5fb1d8e0b7d2"
      },
      "execution_count": 49,
      "outputs": [
        {
          "output_type": "execute_result",
          "data": {
            "text/plain": [
              "(0.39064823727530884, 105.9, 'perimeter_worst')"
            ]
          },
          "metadata": {},
          "execution_count": 49
        }
      ]
    },
    {
      "cell_type": "code",
      "source": [
        "\n"
      ],
      "metadata": {
        "colab": {
          "base_uri": "https://localhost:8080/"
        },
        "id": "fvUMYO45U8J8",
        "outputId": "9fe7ec28-932c-408e-a0aa-47e2f3a0ad4a"
      },
      "execution_count": 48,
      "outputs": [
        {
          "output_type": "execute_result",
          "data": {
            "text/plain": [
              "(0.39064823727530884, 105.9, 'perimeter_worst')"
            ]
          },
          "metadata": {},
          "execution_count": 48
        }
      ]
    },
    {
      "cell_type": "code",
      "source": [],
      "metadata": {
        "id": "r8kjBYM2Vmfp"
      },
      "execution_count": null,
      "outputs": []
    }
  ]
}