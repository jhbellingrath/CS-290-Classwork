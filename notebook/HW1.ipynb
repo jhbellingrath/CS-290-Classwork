{
  "nbformat": 4,
  "nbformat_minor": 0,
  "metadata": {
    "colab": {
      "provenance": [],
      "authorship_tag": "ABX9TyMHN/QGQ5Lk5OQiQHzFE5rU",
      "include_colab_link": true
    },
    "kernelspec": {
      "name": "python3",
      "display_name": "Python 3"
    },
    "language_info": {
      "name": "python"
    }
  },
  "cells": [
    {
      "cell_type": "markdown",
      "metadata": {
        "id": "view-in-github",
        "colab_type": "text"
      },
      "source": [
        "<a href=\"https://colab.research.google.com/github/jhbellingrath/CS-290-Classwork/blob/main/notebook/HW1.ipynb\" target=\"_parent\"><img src=\"https://colab.research.google.com/assets/colab-badge.svg\" alt=\"Open In Colab\"/></a>"
      ]
    },
    {
      "cell_type": "code",
      "execution_count": 10,
      "metadata": {
        "id": "lKdIjikSOUXH"
      },
      "outputs": [],
      "source": [
        "import pandas as pd\n",
        "import math"
      ]
    },
    {
      "cell_type": "code",
      "source": [
        "df = pd.read_csv('/content/drive/MyDrive/kaggle/breast-cancer.csv')"
      ],
      "metadata": {
        "id": "rye1pcAUQFhX"
      },
      "execution_count": 11,
      "outputs": []
    },
    {
      "cell_type": "code",
      "source": [
        "target=\"diagnosis\"\n",
        "attributes=df.columns\n",
        "attributes=attributes.delete([0,1])\n",
        "attributes"
      ],
      "metadata": {
        "colab": {
          "base_uri": "https://localhost:8080/"
        },
        "id": "uZS3ZdVxQkHX",
        "outputId": "d4229e9c-b92b-416c-be2b-90f3c35ea151"
      },
      "execution_count": 55,
      "outputs": [
        {
          "output_type": "execute_result",
          "data": {
            "text/plain": [
              "Index(['radius_mean', 'texture_mean', 'perimeter_mean', 'area_mean',\n",
              "       'smoothness_mean', 'compactness_mean', 'concavity_mean',\n",
              "       'concave points_mean', 'symmetry_mean', 'fractal_dimension_mean',\n",
              "       'radius_se', 'texture_se', 'perimeter_se', 'area_se', 'smoothness_se',\n",
              "       'compactness_se', 'concavity_se', 'concave points_se', 'symmetry_se',\n",
              "       'fractal_dimension_se', 'radius_worst', 'texture_worst',\n",
              "       'perimeter_worst', 'area_worst', 'smoothness_worst',\n",
              "       'compactness_worst', 'concavity_worst', 'concave points_worst',\n",
              "       'symmetry_worst', 'fractal_dimension_worst'],\n",
              "      dtype='object')"
            ]
          },
          "metadata": {},
          "execution_count": 55
        }
      ]
    },
    {
      "cell_type": "code",
      "source": [
        "entropies=[]\n",
        "for attribute in attributes:\n",
        "  vals = df[ attribute ].unique()\n",
        "  overall = len( df )\n",
        "  split_value=0\n",
        "  split_attribute=0\n",
        "  split_entropy=10\n",
        "  for val in vals:\n",
        "    entropy = 0\n",
        "    left = df[ df[attribute] <= val ][ [attribute,target] ]\n",
        "    props = left[ target ].value_counts( normalize = True )\n",
        "    weight = len( left ) / overall\n",
        "    for prop in props.array:\n",
        "      entropy = entropy - weight*prop*math.log2( prop )\n",
        "    right = df[ df[attribute] > val ][ [attribute,target] ]\n",
        "    props = right[ target ].value_counts( normalize = True )\n",
        "    weight = len( right ) / overall\n",
        "    for prop in props.array:\n",
        "      entropy = entropy - weight*prop*math.log2( prop )\n",
        "    if entropy < split_entropy:\n",
        "      split_entropy = entropy\n",
        "      split_value = val\n",
        "      split_attribute = attribute\n",
        "  entropies.append([split_entropy,split_value,split_attribute])"
      ],
      "metadata": {
        "id": "4swexI8QQv8o"
      },
      "execution_count": 56,
      "outputs": []
    },
    {
      "cell_type": "code",
      "source": [
        "entropies.sort()\n",
        "entropies"
      ],
      "metadata": {
        "colab": {
          "base_uri": "https://localhost:8080/"
        },
        "id": "fvUMYO45U8J8",
        "outputId": "176b9a86-befb-45c0-8687-05ec089f5a53"
      },
      "execution_count": 57,
      "outputs": [
        {
          "output_type": "execute_result",
          "data": {
            "text/plain": [
              "[[0.39064823727530884, 105.9, 'perimeter_worst'],\n",
              " [0.3906922696191142, 16.77, 'radius_worst'],\n",
              " [0.3924740276719886, 880.8, 'area_worst'],\n",
              " [0.4035625279471552, 0.1423, 'concave points_worst'],\n",
              " [0.40684425572913385, 0.05102, 'concave points_mean'],\n",
              " [0.4778349162125473, 693.7, 'area_mean'],\n",
              " [0.4860075931192521, 98.73, 'perimeter_mean'],\n",
              " [0.4896488694028093, 15.04, 'radius_mean'],\n",
              " [0.5044005063979389, 0.08842, 'concavity_mean'],\n",
              " [0.5365563652016727, 31.24, 'area_se'],\n",
              " [0.550897108089217, 0.2151, 'concavity_worst'],\n",
              " [0.6639712575909122, 2.759, 'perimeter_se'],\n",
              " [0.6657385945956105, 0.4202, 'radius_se'],\n",
              " [0.6855696883147585, 0.1021, 'compactness_mean'],\n",
              " [0.7114050124382565, 0.2809, 'compactness_worst'],\n",
              " [0.7591927108420399, 0.02105, 'concavity_se'],\n",
              " [0.7888947710221473, 0.009199, 'concave points_se'],\n",
              " [0.7933302236226092, 18.61, 'texture_mean'],\n",
              " [0.7954377123862822, 23.31, 'texture_worst'],\n",
              " [0.8291030803342945, 0.136, 'smoothness_worst'],\n",
              " [0.8428463808623465, 0.3557, 'symmetry_worst'],\n",
              " [0.8428595394508551, 0.01834, 'compactness_se'],\n",
              " [0.8555307306582929, 0.08946, 'smoothness_mean'],\n",
              " [0.8779664685160286, 0.0927, 'fractal_dimension_worst'],\n",
              " [0.8814326816264376, 0.1714, 'symmetry_mean'],\n",
              " [0.9180125756954363, 0.003114, 'fractal_dimension_se'],\n",
              " [0.9298507265069734, 0.04243, 'symmetry_se'],\n",
              " [0.9318999320629093, 0.05534, 'fractal_dimension_mean'],\n",
              " [0.9362890179154333, 0.5477, 'texture_se'],\n",
              " [0.9391573741122085, 0.01088, 'smoothness_se']]"
            ]
          },
          "metadata": {},
          "execution_count": 57
        }
      ]
    },
    {
      "cell_type": "code",
      "source": [],
      "metadata": {
        "id": "r8kjBYM2Vmfp"
      },
      "execution_count": null,
      "outputs": []
    }
  ]
}