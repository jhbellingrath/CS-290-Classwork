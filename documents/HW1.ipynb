{
  "nbformat": 4,
  "nbformat_minor": 0,
  "metadata": {
    "colab": {
      "provenance": [],
      "authorship_tag": "ABX9TyPkPuxidmh5sdJ+levyVyH/",
      "include_colab_link": true
    },
    "kernelspec": {
      "name": "python3",
      "display_name": "Python 3"
    },
    "language_info": {
      "name": "python"
    }
  },
  "cells": [
    {
      "cell_type": "markdown",
      "metadata": {
        "id": "view-in-github",
        "colab_type": "text"
      },
      "source": [
        "<a href=\"https://colab.research.google.com/github/jhbellingrath/CS-290-Classwork/blob/main/documents/HW1.ipynb\" target=\"_parent\"><img src=\"https://colab.research.google.com/assets/colab-badge.svg\" alt=\"Open In Colab\"/></a>"
      ]
    },
    {
      "cell_type": "code",
      "execution_count": null,
      "metadata": {
        "id": "lKdIjikSOUXH"
      },
      "outputs": [],
      "source": [
        "import pandas as pd\n",
        "import math"
      ]
    },
    {
      "cell_type": "code",
      "source": [
        "df = pd.read_csv('/content/drive/MyDrive/kaggle/breast-cancer.csv')"
      ],
      "metadata": {
        "id": "rye1pcAUQFhX"
      },
      "execution_count": null,
      "outputs": []
    },
    {
      "cell_type": "code",
      "source": [
        "target=\"diagnosis\"\n",
        "attributes=df.columns\n",
        "attributes=attributes.delete([0,1])\n",
        "attributes"
      ],
      "metadata": {
        "colab": {
          "base_uri": "https://localhost:8080/"
        },
        "id": "uZS3ZdVxQkHX",
        "outputId": "c3526be4-cdef-4de3-e9e7-e764991c4d76"
      },
      "execution_count": null,
      "outputs": [
        {
          "output_type": "execute_result",
          "data": {
            "text/plain": [
              "Index(['radius_mean', 'texture_mean', 'perimeter_mean', 'area_mean',\n",
              "       'smoothness_mean', 'compactness_mean', 'concavity_mean',\n",
              "       'concave points_mean', 'symmetry_mean', 'fractal_dimension_mean',\n",
              "       'radius_se', 'texture_se', 'perimeter_se', 'area_se', 'smoothness_se',\n",
              "       'compactness_se', 'concavity_se', 'concave points_se', 'symmetry_se',\n",
              "       'fractal_dimension_se', 'radius_worst', 'texture_worst',\n",
              "       'perimeter_worst', 'area_worst', 'smoothness_worst',\n",
              "       'compactness_worst', 'concavity_worst', 'concave points_worst',\n",
              "       'symmetry_worst', 'fractal_dimension_worst'],\n",
              "      dtype='object')"
            ]
          },
          "metadata": {},
          "execution_count": 64
        }
      ]
    },
    {
      "cell_type": "code",
      "source": [
        "from sklearn.model_selection import train_test_split\n",
        "train_set, test_set = train_test_split(df, test_size=0.2, random_state=1)"
      ],
      "metadata": {
        "id": "Xq-v5I2EdX1h"
      },
      "execution_count": null,
      "outputs": []
    },
    {
      "cell_type": "code",
      "source": [
        "entropies=[]\n",
        "for attribute in attributes:\n",
        "  vals = train_set[ attribute ].unique()\n",
        "  overall = len( train_set )\n",
        "  split_value=0\n",
        "  split_attribute=0\n",
        "  split_entropy=10\n",
        "  for val in vals:\n",
        "    entropy = 0\n",
        "    left = train_set[ train_set[attribute] <= val ][ [attribute,target] ]\n",
        "    props = left[ target ].value_counts( normalize = True )\n",
        "    weight = len( left ) / overall\n",
        "    for prop in props.array:\n",
        "      entropy = entropy - weight*prop*math.log2( prop )\n",
        "    right = train_set[ train_set[attribute] > val ][ [attribute,target] ]\n",
        "    props = right[ target ].value_counts( normalize = True )\n",
        "    weight = len( right ) / overall\n",
        "    for prop in props.array:\n",
        "      entropy = entropy - weight*prop*math.log2( prop )\n",
        "    if entropy < split_entropy:\n",
        "      split_entropy = entropy\n",
        "      split_value = val\n",
        "      split_attribute = attribute\n",
        "  entropies.append([split_entropy,split_value,split_attribute])"
      ],
      "metadata": {
        "id": "4swexI8QQv8o"
      },
      "execution_count": null,
      "outputs": []
    },
    {
      "cell_type": "code",
      "source": [
        "entropies.sort()\n",
        "entropies"
      ],
      "metadata": {
        "colab": {
          "base_uri": "https://localhost:8080/"
        },
        "id": "fvUMYO45U8J8",
        "outputId": "b7b43fdd-ccef-4578-c099-a151dfb3c3c6"
      },
      "execution_count": null,
      "outputs": [
        {
          "output_type": "execute_result",
          "data": {
            "text/plain": [
              "[[0.3426593258121856, 105.0, 'perimeter_worst'],\n",
              " [0.37136559159129057, 0.1453, 'concave points_worst'],\n",
              " [0.37294234816701266, 873.2, 'area_worst'],\n",
              " [0.38268644582807515, 16.77, 'radius_worst'],\n",
              " [0.3966332174586737, 0.04908, 'concave points_mean'],\n",
              " [0.4734600252533477, 98.73, 'perimeter_mean'],\n",
              " [0.4751237950158729, 693.7, 'area_mean'],\n",
              " [0.47660728270871444, 0.08842, 'concavity_mean'],\n",
              " [0.4830154565542558, 15.04, 'radius_mean'],\n",
              " [0.49465087274868597, 0.2247, 'concavity_worst'],\n",
              " [0.5105703186827251, 31.16, 'area_se'],\n",
              " [0.6631924294132641, 2.888, 'perimeter_se'],\n",
              " [0.6645866780138846, 0.1021, 'compactness_mean'],\n",
              " [0.6694488686652421, 0.4202, 'radius_se'],\n",
              " [0.6762290113090959, 0.2809, 'compactness_worst'],\n",
              " [0.7603328792990213, 0.01996, 'concavity_se'],\n",
              " [0.7745043625331123, 0.009199, 'concave points_se'],\n",
              " [0.7779708312691588, 18.75, 'texture_mean'],\n",
              " [0.7854149149096783, 24.85, 'texture_worst'],\n",
              " [0.8227985251218474, 0.136, 'smoothness_worst'],\n",
              " [0.8266099760025225, 0.01834, 'compactness_se'],\n",
              " [0.840943284237481, 0.08946, 'smoothness_mean'],\n",
              " [0.8446502200782543, 0.3604, 'symmetry_worst'],\n",
              " [0.8784227863006036, 0.08851, 'fractal_dimension_worst'],\n",
              " [0.8837208902644734, 0.1714, 'symmetry_mean'],\n",
              " [0.9180567592725372, 0.002635, 'fractal_dimension_se'],\n",
              " [0.9337220563187538, 0.04243, 'symmetry_se'],\n",
              " [0.934310443184354, 0.5477, 'texture_se'],\n",
              " [0.9365953166592496, 0.05667, 'fractal_dimension_mean'],\n",
              " [0.9386886977536876, 0.01082, 'smoothness_se']]"
            ]
          },
          "metadata": {},
          "execution_count": 67
        }
      ]
    },
    {
      "cell_type": "code",
      "source": [],
      "metadata": {
        "id": "r8kjBYM2Vmfp"
      },
      "execution_count": null,
      "outputs": []
    }
  ]
}