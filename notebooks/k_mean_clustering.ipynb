{
  "nbformat": 4,
  "nbformat_minor": 0,
  "metadata": {
    "colab": {
      "provenance": [],
      "authorship_tag": "ABX9TyNZJpbN26JVadfWPtiyIQld",
      "include_colab_link": true
    },
    "kernelspec": {
      "name": "python3",
      "display_name": "Python 3"
    },
    "language_info": {
      "name": "python"
    }
  },
  "cells": [
    {
      "cell_type": "markdown",
      "metadata": {
        "id": "view-in-github",
        "colab_type": "text"
      },
      "source": [
        "<a href=\"https://colab.research.google.com/github/jhbellingrath/CS-290-Classwork/blob/main/notebooks/k_mean_clustering.ipynb\" target=\"_parent\"><img src=\"https://colab.research.google.com/assets/colab-badge.svg\" alt=\"Open In Colab\"/></a>"
      ]
    },
    {
      "cell_type": "code",
      "execution_count": null,
      "metadata": {
        "id": "iq95Io_2NdPS"
      },
      "outputs": [],
      "source": [
        "import pandas as pd\n",
        "import numpy as np"
      ]
    },
    {
      "cell_type": "code",
      "source": [
        "def dist(X,Y):\n",
        "  total=0\n",
        "  for i in range(len(X)):\n",
        "    total+=(X[i]-Y[i])**2\n",
        "  return np.sqrt(total)"
      ],
      "metadata": {
        "id": "3U4LJxaONf42"
      },
      "execution_count": null,
      "outputs": []
    },
    {
      "cell_type": "code",
      "source": [
        "df = pd.read_csv(\"https://github.com/mbrudd/csci290/raw/refs/heads/main/data/penguins.csv\")\n",
        "df=df.drop(columns=[\"species\"])\n",
        "df=df.drop(columns=[\"sex\"])\n",
        "df=df.drop(columns=[\"island\"])\n",
        "df=df.drop(columns=[\"year\"])"
      ],
      "metadata": {
        "id": "hsODOpFKPNrw"
      },
      "execution_count": null,
      "outputs": []
    },
    {
      "cell_type": "code",
      "source": [
        "len(df)"
      ],
      "metadata": {
        "colab": {
          "base_uri": "https://localhost:8080/"
        },
        "id": "LzWtu5LfPTRR",
        "outputId": "df262a96-787f-4de7-86d8-097cf07f5990"
      },
      "execution_count": null,
      "outputs": [
        {
          "output_type": "execute_result",
          "data": {
            "text/plain": [
              "344"
            ]
          },
          "metadata": {},
          "execution_count": 28
        }
      ]
    },
    {
      "cell_type": "code",
      "source": [
        "##setting up initial centroids\n",
        "k=3\n",
        "initials=[100,200,300]"
      ],
      "metadata": {
        "id": "XJv5QAJLQ3H4"
      },
      "execution_count": null,
      "outputs": []
    },
    {
      "cell_type": "code",
      "source": [
        "def avg(X): ##inputs a list,X\n",
        "  averages=[]\n",
        "  for i in range(len(X[0])):\n",
        "    sum=0\n",
        "    for j in range(len(X)):\n",
        "      sum+=X[j][i]\n",
        "    averages.append(sum/len(X))\n",
        "  return averages"
      ],
      "metadata": {
        "id": "CJK99po1U696"
      },
      "execution_count": null,
      "outputs": []
    },
    {
      "cell_type": "code",
      "source": [
        "def k_mean():\n",
        "  centroids=[]\n",
        "  for i in range(len(initials)): ##creates initial centroid list\n",
        "    temp=[]\n",
        "    for j in range(len(df.iloc[0])):\n",
        "      temp.append(df.iloc[initials[i]][j])\n",
        "    centroids.append(temp)\n",
        "  clusters=[]\n",
        "  for i in range(k):\n",
        "    clusters.append([])\n",
        "  while(true):\n",
        "    for i in range(len(df)):\n",
        "      for j in range(len(centroids)):\n",
        "        index=0  ##stores which cluster the datapoints will be included in\n",
        "        best=np.Infinity\n",
        "        if(dist([centroids[j]],df.iloc[i])<best):\n",
        "          index=j\n",
        "          best=dist([centroids[j]],df.iloc[i])\n",
        "      clusters[index].append(i)\n",
        "    ##at this point each of the datapoints is in a cluster\n",
        "\n",
        "    for i in range(k):\n",
        "      centroids[i]=avg(clusters[i])\n",
        "\n"
      ],
      "metadata": {
        "id": "eQGr7oGLQbJb"
      },
      "execution_count": null,
      "outputs": []
    },
    {
      "cell_type": "code",
      "source": [],
      "metadata": {
        "colab": {
          "base_uri": "https://localhost:8080/"
        },
        "id": "Y7lZpoAOVzes",
        "outputId": "df6bd66f-824b-4ac1-ea41-de57967cbb93"
      },
      "execution_count": null,
      "outputs": [
        {
          "output_type": "execute_result",
          "data": {
            "text/plain": [
              "[2.0, 3.0]"
            ]
          },
          "metadata": {},
          "execution_count": 33
        }
      ]
    },
    {
      "cell_type": "code",
      "source": [],
      "metadata": {
        "id": "UOuacWT2V0V7"
      },
      "execution_count": null,
      "outputs": []
    }
  ]
}