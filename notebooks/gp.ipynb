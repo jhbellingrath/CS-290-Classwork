{
  "nbformat": 4,
  "nbformat_minor": 0,
  "metadata": {
    "colab": {
      "provenance": [],
      "include_colab_link": true
    },
    "kernelspec": {
      "name": "python3",
      "display_name": "Python 3"
    },
    "language_info": {
      "name": "python"
    }
  },
  "cells": [
    {
      "cell_type": "markdown",
      "metadata": {
        "id": "view-in-github",
        "colab_type": "text"
      },
      "source": [
        "<a href=\"https://colab.research.google.com/github/jhbellingrath/CS-290-Classwork/blob/main/notebooks/gp.ipynb\" target=\"_parent\"><img src=\"https://colab.research.google.com/assets/colab-badge.svg\" alt=\"Open In Colab\"/></a>"
      ]
    },
    {
      "cell_type": "code",
      "source": [
        "import pandas as pd\n",
        "import numpy as np\n",
        "from sklearn.tree import DecisionTreeClassifier\n",
        "from sklearn.preprocessing import LabelEncoder\n",
        "import math"
      ],
      "metadata": {
        "id": "tWvb4HwcrsNU"
      },
      "execution_count": null,
      "outputs": []
    },
    {
      "cell_type": "code",
      "execution_count": null,
      "metadata": {
        "id": "T7S6b-p8qiYG"
      },
      "outputs": [],
      "source": [
        "df=pd.read_csv('https://raw.githubusercontent.com/jhbellingrath/CS-290-Classwork/refs/heads/main/data/survey%20lung%20cancer.csv')"
      ]
    },
    {
      "cell_type": "code",
      "source": [
        "target=\"LUNG_CANCER\""
      ],
      "metadata": {
        "id": "bqnygyHUrtt1"
      },
      "execution_count": null,
      "outputs": []
    },
    {
      "cell_type": "code",
      "source": [
        "attributes=df.columns[df.columns!=target]\n",
        "attributes=attributes.drop(\"AGE\")\n",
        "attributes"
      ],
      "metadata": {
        "colab": {
          "base_uri": "https://localhost:8080/"
        },
        "id": "46Ux4OsHsGdK",
        "outputId": "e4c6ccb1-b61f-474b-ce29-8eec37d0248e"
      },
      "execution_count": null,
      "outputs": [
        {
          "output_type": "execute_result",
          "data": {
            "text/plain": [
              "Index(['GENDER', 'SMOKING', 'YELLOW_FINGERS', 'ANXIETY', 'PEER_PRESSURE',\n",
              "       'CHRONIC DISEASE', 'FATIGUE ', 'ALLERGY ', 'WHEEZING',\n",
              "       'ALCOHOL CONSUMING', 'COUGHING', 'SHORTNESS OF BREATH',\n",
              "       'SWALLOWING DIFFICULTY', 'CHEST PAIN'],\n",
              "      dtype='object')"
            ]
          },
          "metadata": {},
          "execution_count": 48
        }
      ]
    },
    {
      "cell_type": "code",
      "source": [
        "# entropy function for qualitative\n",
        "def entropy(attribute):\n",
        "  entropy = 0\n",
        "  total = len( df )\n",
        "  vals = df[attribute].unique()\n",
        "  for val in vals:\n",
        "    counts = len(df[ df[attribute] == val ])\n",
        "    weight = counts / total\n",
        "    props = df[ df[attribute] == val ][target].value_counts( normalize=True )\n",
        "  for p in props.array:\n",
        "    entropy =  entropy - weight*(p*math.log2(p))\n",
        "  return entropy"
      ],
      "metadata": {
        "id": "NFTX7ClysHwA"
      },
      "execution_count": null,
      "outputs": []
    },
    {
      "cell_type": "code",
      "source": [
        "# Gini function for qualitative\n",
        "def gini(attribute):\n",
        "    vals=df[attribute].unique()\n",
        "    impurity=1\n",
        "    for val in vals:\n",
        "      impurity-=(len(df[df[attribute]==val])/len(df))**2\n",
        "    return impurity"
      ],
      "metadata": {
        "id": "KK5ibtSQsLgV"
      },
      "execution_count": null,
      "outputs": []
    },
    {
      "cell_type": "code",
      "source": [
        "# Computes Entropies and Gini impurities for each qualitative split\n",
        "entropies=[]\n",
        "ginis=[]\n",
        "for attribute in attributes:\n",
        "  entropies.append([entropy(attribute),attribute])\n",
        "  ginis.append([gini(attribute),attribute])\n",
        "entropies.sort()\n",
        "ginis.sort()\n",
        "print(entropies)\n",
        "print(ginis)"
      ],
      "metadata": {
        "id": "zk7hOjZWsMba",
        "colab": {
          "base_uri": "https://localhost:8080/"
        },
        "outputId": "7b172f14-e729-4cec-bb83-8f79b604b5d5"
      },
      "execution_count": null,
      "outputs": [
        {
          "output_type": "stream",
          "name": "stdout",
          "text": [
            "[[0.10559637699403665, 'ALLERGY '], [0.173117099729669, 'PEER_PRESSURE'], [0.21992131477035415, 'CHRONIC DISEASE'], [0.22188330357899055, 'SHORTNESS OF BREATH'], [0.23466973341918906, 'FATIGUE '], [0.28013677250726143, 'SMOKING'], [0.28971295630473837, 'GENDER'], [0.3068095912785343, 'YELLOW_FINGERS'], [0.31747205281380564, 'CHEST PAIN'], [0.3221585989549134, 'COUGHING'], [0.33468388433363483, 'ANXIETY'], [0.3362029448298184, 'WHEEZING'], [0.34768484145841194, 'ALCOHOL CONSUMING'], [0.3907992765733175, 'SWALLOWING DIFFICULTY']]\n",
            "[[0.44004566353515356, 'FATIGUE '], [0.4603638420209256, 'SHORTNESS OF BREATH'], [0.4874268179009437, 'COUGHING'], [0.4903174453556205, 'YELLOW_FINGERS'], [0.49203506456781987, 'SMOKING'], [0.49358511117395076, 'ALCOHOL CONSUMING'], [0.49358511117395076, 'ALLERGY '], [0.49358511117395076, 'CHEST PAIN'], [0.49358511117395076, 'WHEEZING'], [0.49810957153779284, 'SWALLOWING DIFFICULTY'], [0.49882175511358273, 'GENDER'], [0.49995287020454326, 'CHRONIC DISEASE'], [0.4999947633560603, 'ANXIETY'], [0.4999947633560603, 'PEER_PRESSURE']]\n"
          ]
        }
      ]
    },
    {
      "cell_type": "code",
      "source": [
        "#  entropy for a quantitative variable\n",
        "def entropy_quantitative(attribute):\n",
        "  entropies=[]\n",
        "  total = len(df)\n",
        "  vals = df[attribute].unique()\n",
        "  for val in vals:\n",
        "    entropy_value = 0\n",
        "    # Left split\n",
        "    left = df[df[attribute] <= val][[attribute, target]]\n",
        "    props = left[target].value_counts(normalize=True)\n",
        "    weight = len(left) / total\n",
        "    for prop in props.array:\n",
        "      entropy_value -= weight * prop * math.log2(prop)\n",
        "\n",
        "    # Right split\n",
        "    right = df[df[attribute] > val][[attribute, target]]\n",
        "    props = right[target].value_counts(normalize=True)\n",
        "    weight = len(right) / total\n",
        "    for prop in props.array:\n",
        "      entropy_value -= weight * prop * math.log2(prop)\n",
        "\n",
        "    entropies.append([entropy_value,val])\n",
        "  entropies.sort()\n",
        "  return entropies\n",
        "  #returns a list of [entropy value,split value]"
      ],
      "metadata": {
        "id": "KCr_6hrWsRzE"
      },
      "execution_count": null,
      "outputs": []
    },
    {
      "cell_type": "code",
      "source": [
        "Age_entropies=entropy_quantitative(\"AGE\")\n",
        "Age_entropies"
      ],
      "metadata": {
        "colab": {
          "base_uri": "https://localhost:8080/"
        },
        "id": "dALaOtz3766j",
        "outputId": "4056cbbc-1e13-4097-9a9a-b355cc59feb9"
      },
      "execution_count": null,
      "outputs": [
        {
          "output_type": "execute_result",
          "data": {
            "text/plain": [
              "[[0.5308987710238049, 71],\n",
              " [0.5312781918116776, 69],\n",
              " [0.5329683781322272, 70],\n",
              " [0.536762079214385, 72],\n",
              " [0.5372453003865665, 21],\n",
              " [0.5372453003865665, 81],\n",
              " [0.5389240759469978, 73],\n",
              " [0.5403639319600874, 63],\n",
              " [0.5403704065336898, 68],\n",
              " [0.5413412661776232, 64],\n",
              " [0.541865421817934, 47],\n",
              " [0.5419171016038008, 74],\n",
              " [0.5428368596279726, 46],\n",
              " [0.5431019303885338, 38],\n",
              " [0.5433445346854594, 65],\n",
              " [0.5435642785740513, 60],\n",
              " [0.5436483858080063, 48],\n",
              " [0.543673431972618, 61],\n",
              " [0.5441094582555415, 75],\n",
              " [0.5443048692770733, 66],\n",
              " [0.5443885623004059, 54],\n",
              " [0.5449207067118653, 59],\n",
              " [0.5449269217235458, 39],\n",
              " [0.5449269217235458, 79],\n",
              " [0.5452315737098028, 67],\n",
              " [0.5453678280067275, 49],\n",
              " [0.5455754495027709, 76],\n",
              " [0.5456500469398374, 62],\n",
              " [0.5458932366463729, 78],\n",
              " [0.5462869742620604, 53],\n",
              " [0.54645058643079, 44],\n",
              " [0.5464872138073784, 57],\n",
              " [0.5467598985291404, 56],\n",
              " [0.5467661501842692, 77],\n",
              " [0.5468142008091454, 52],\n",
              " [0.5468750719468112, 58],\n",
              " [0.5469124217816319, 55],\n",
              " [0.546952448836812, 51],\n",
              " [0.5469617407220057, 87]]"
            ]
          },
          "metadata": {},
          "execution_count": 64
        }
      ]
    },
    {
      "cell_type": "code",
      "source": [
        "# Attribute selection main\n",
        "def Attribute_selection_method(task, dataset, target_variable, impurity_measure=None):\n",
        "    if task not in [\"regression\", \"classification\"]:\n",
        "        raise ValueError(\"Task must be either 'regression' or 'classification'.\")\n",
        "\n",
        "    # features and target variable\n",
        "    X = dataset.drop(columns=[target_variable])\n",
        "    y = dataset[target_variable]\n",
        "\n",
        "    if task == \"classification\" and impurity_measure is None:\n",
        "        raise ValueError(\"For classification tasks, 'impurity_measure' must be specified.\")\n",
        "\n",
        "    # best attribute based on the impurity\n",
        "    best_attribute = calculate_best_split(X, y, impurity_measure)\n",
        "\n",
        "    return best_attribute"
      ],
      "metadata": {
        "id": "Bng0Pj3gsSyV"
      },
      "execution_count": null,
      "outputs": []
    },
    {
      "cell_type": "code",
      "source": [
        "# Load data\n",
        "url = \"https://raw.githubusercontent.com/jhbellingrath/CS-290-Classwork/refs/heads/main/data/survey%20lung%20cancer.csv\"\n",
        "df = pd.read_csv(url)\n"
      ],
      "metadata": {
        "id": "rF9xw9mTsZPV"
      },
      "execution_count": null,
      "outputs": []
    },
    {
      "cell_type": "code",
      "source": [
        "# LabelEncoder\n",
        "le = LabelEncoder()"
      ],
      "metadata": {
        "id": "rd_s2uT6sc3v"
      },
      "execution_count": null,
      "outputs": []
    },
    {
      "cell_type": "code",
      "source": [
        "# target variable\n",
        "df[\"LUNG_CANCER\"] = le.fit_transform(df[\"LUNG_CANCER\"])"
      ],
      "metadata": {
        "id": "1Vw9Ie-1sfoA"
      },
      "execution_count": null,
      "outputs": []
    },
    {
      "cell_type": "code",
      "source": [
        "# find the best attribute for classification\n",
        "best_attribute = Attribute_selection_method(\"classification\", df, \"LUNG_CANCER\", \"entropy\")\n",
        "print(\"Best attribute according to custom method:\", best_attribute)\n"
      ],
      "metadata": {
        "colab": {
          "base_uri": "https://localhost:8080/",
          "height": 321
        },
        "id": "-u9WCI0Osip1",
        "outputId": "48374d84-e4a1-46b3-cb38-0bce59310b0a"
      },
      "execution_count": null,
      "outputs": [
        {
          "output_type": "error",
          "ename": "KeyError",
          "evalue": "\"None of [Index([1, 1, 0, 0, 0, 1, 1, 1, 0, 1,\\n       ...\\n       1, 1, 1, 1, 1, 1, 1, 1, 1, 1],\\n      dtype='int64', length=309)] are in the [columns]\"",
          "traceback": [
            "\u001b[0;31m---------------------------------------------------------------------------\u001b[0m",
            "\u001b[0;31mKeyError\u001b[0m                                  Traceback (most recent call last)",
            "\u001b[0;32m<ipython-input-40-9cbcd8d3c740>\u001b[0m in \u001b[0;36m<cell line: 2>\u001b[0;34m()\u001b[0m\n\u001b[1;32m      1\u001b[0m \u001b[0;31m# find the best attribute for classification\u001b[0m\u001b[0;34m\u001b[0m\u001b[0;34m\u001b[0m\u001b[0m\n\u001b[0;32m----> 2\u001b[0;31m \u001b[0mbest_attribute\u001b[0m \u001b[0;34m=\u001b[0m \u001b[0mAttribute_selection_method\u001b[0m\u001b[0;34m(\u001b[0m\u001b[0;34m\"classification\"\u001b[0m\u001b[0;34m,\u001b[0m \u001b[0mdf\u001b[0m\u001b[0;34m,\u001b[0m \u001b[0;34m\"LUNG_CANCER\"\u001b[0m\u001b[0;34m,\u001b[0m \u001b[0;34m\"entropy\"\u001b[0m\u001b[0;34m)\u001b[0m\u001b[0;34m\u001b[0m\u001b[0;34m\u001b[0m\u001b[0m\n\u001b[0m\u001b[1;32m      3\u001b[0m \u001b[0mprint\u001b[0m\u001b[0;34m(\u001b[0m\u001b[0;34m\"Best attribute according to custom method:\"\u001b[0m\u001b[0;34m,\u001b[0m \u001b[0mbest_attribute\u001b[0m\u001b[0;34m)\u001b[0m\u001b[0;34m\u001b[0m\u001b[0;34m\u001b[0m\u001b[0m\n",
            "\u001b[0;32m<ipython-input-36-03437d82ad88>\u001b[0m in \u001b[0;36mAttribute_selection_method\u001b[0;34m(task, dataset, target_variable, impurity_measure)\u001b[0m\n\u001b[1;32m     12\u001b[0m \u001b[0;34m\u001b[0m\u001b[0m\n\u001b[1;32m     13\u001b[0m     \u001b[0;31m# best attribute based on the impurity\u001b[0m\u001b[0;34m\u001b[0m\u001b[0;34m\u001b[0m\u001b[0m\n\u001b[0;32m---> 14\u001b[0;31m     \u001b[0mbest_attribute\u001b[0m \u001b[0;34m=\u001b[0m \u001b[0mcalculate_best_split\u001b[0m\u001b[0;34m(\u001b[0m\u001b[0mX\u001b[0m\u001b[0;34m,\u001b[0m \u001b[0my\u001b[0m\u001b[0;34m,\u001b[0m \u001b[0mimpurity_measure\u001b[0m\u001b[0;34m)\u001b[0m\u001b[0;34m\u001b[0m\u001b[0;34m\u001b[0m\u001b[0m\n\u001b[0m\u001b[1;32m     15\u001b[0m \u001b[0;34m\u001b[0m\u001b[0m\n\u001b[1;32m     16\u001b[0m     \u001b[0;32mreturn\u001b[0m \u001b[0mbest_attribute\u001b[0m\u001b[0;34m\u001b[0m\u001b[0;34m\u001b[0m\u001b[0m\n",
            "\u001b[0;32m<ipython-input-8-b07d0c383c14>\u001b[0m in \u001b[0;36mcalculate_best_split\u001b[0;34m(X, y, impurity_measure)\u001b[0m\n\u001b[1;32m      3\u001b[0m     \u001b[0mbest_gain\u001b[0m \u001b[0;34m=\u001b[0m \u001b[0;34m-\u001b[0m\u001b[0;36m1\u001b[0m\u001b[0;34m\u001b[0m\u001b[0;34m\u001b[0m\u001b[0m\n\u001b[1;32m      4\u001b[0m     \u001b[0mbest_attribute\u001b[0m \u001b[0;34m=\u001b[0m \u001b[0;32mNone\u001b[0m\u001b[0;34m\u001b[0m\u001b[0;34m\u001b[0m\u001b[0m\n\u001b[0;32m----> 5\u001b[0;31m     \u001b[0mbase_impurity\u001b[0m \u001b[0;34m=\u001b[0m \u001b[0mentropy\u001b[0m\u001b[0;34m(\u001b[0m\u001b[0my\u001b[0m\u001b[0;34m)\u001b[0m \u001b[0;32mif\u001b[0m \u001b[0mimpurity_measure\u001b[0m \u001b[0;34m==\u001b[0m \u001b[0;34m'entropy'\u001b[0m \u001b[0;32melse\u001b[0m \u001b[0mgini\u001b[0m\u001b[0;34m(\u001b[0m\u001b[0my\u001b[0m\u001b[0;34m)\u001b[0m\u001b[0;34m\u001b[0m\u001b[0;34m\u001b[0m\u001b[0m\n\u001b[0m\u001b[1;32m      6\u001b[0m \u001b[0;34m\u001b[0m\u001b[0m\n\u001b[1;32m      7\u001b[0m     \u001b[0;32mfor\u001b[0m \u001b[0mattribute\u001b[0m \u001b[0;32min\u001b[0m \u001b[0mX\u001b[0m\u001b[0;34m.\u001b[0m\u001b[0mcolumns\u001b[0m\u001b[0;34m:\u001b[0m\u001b[0;34m\u001b[0m\u001b[0;34m\u001b[0m\u001b[0m\n",
            "\u001b[0;32m<ipython-input-26-a59f4f0b4b02>\u001b[0m in \u001b[0;36mentropy\u001b[0;34m(attribute)\u001b[0m\n\u001b[1;32m      3\u001b[0m   \u001b[0mentropy\u001b[0m \u001b[0;34m=\u001b[0m \u001b[0;36m0\u001b[0m\u001b[0;34m\u001b[0m\u001b[0;34m\u001b[0m\u001b[0m\n\u001b[1;32m      4\u001b[0m   \u001b[0mtotal\u001b[0m \u001b[0;34m=\u001b[0m \u001b[0mlen\u001b[0m\u001b[0;34m(\u001b[0m \u001b[0mdf\u001b[0m \u001b[0;34m)\u001b[0m\u001b[0;34m\u001b[0m\u001b[0;34m\u001b[0m\u001b[0m\n\u001b[0;32m----> 5\u001b[0;31m   \u001b[0mvals\u001b[0m \u001b[0;34m=\u001b[0m \u001b[0mdf\u001b[0m\u001b[0;34m[\u001b[0m\u001b[0mattribute\u001b[0m\u001b[0;34m]\u001b[0m\u001b[0;34m.\u001b[0m\u001b[0munique\u001b[0m\u001b[0;34m(\u001b[0m\u001b[0;34m)\u001b[0m\u001b[0;34m\u001b[0m\u001b[0;34m\u001b[0m\u001b[0m\n\u001b[0m\u001b[1;32m      6\u001b[0m   \u001b[0;32mfor\u001b[0m \u001b[0mval\u001b[0m \u001b[0;32min\u001b[0m \u001b[0mvals\u001b[0m\u001b[0;34m:\u001b[0m\u001b[0;34m\u001b[0m\u001b[0;34m\u001b[0m\u001b[0m\n\u001b[1;32m      7\u001b[0m     \u001b[0mcounts\u001b[0m \u001b[0;34m=\u001b[0m \u001b[0mlen\u001b[0m\u001b[0;34m(\u001b[0m\u001b[0mdf\u001b[0m\u001b[0;34m[\u001b[0m \u001b[0mdf\u001b[0m\u001b[0;34m[\u001b[0m\u001b[0mattribute\u001b[0m\u001b[0;34m]\u001b[0m \u001b[0;34m==\u001b[0m \u001b[0mval\u001b[0m \u001b[0;34m]\u001b[0m\u001b[0;34m)\u001b[0m\u001b[0;34m\u001b[0m\u001b[0;34m\u001b[0m\u001b[0m\n",
            "\u001b[0;32m/usr/local/lib/python3.10/dist-packages/pandas/core/frame.py\u001b[0m in \u001b[0;36m__getitem__\u001b[0;34m(self, key)\u001b[0m\n\u001b[1;32m   4106\u001b[0m             \u001b[0;32mif\u001b[0m \u001b[0mis_iterator\u001b[0m\u001b[0;34m(\u001b[0m\u001b[0mkey\u001b[0m\u001b[0;34m)\u001b[0m\u001b[0;34m:\u001b[0m\u001b[0;34m\u001b[0m\u001b[0;34m\u001b[0m\u001b[0m\n\u001b[1;32m   4107\u001b[0m                 \u001b[0mkey\u001b[0m \u001b[0;34m=\u001b[0m \u001b[0mlist\u001b[0m\u001b[0;34m(\u001b[0m\u001b[0mkey\u001b[0m\u001b[0;34m)\u001b[0m\u001b[0;34m\u001b[0m\u001b[0;34m\u001b[0m\u001b[0m\n\u001b[0;32m-> 4108\u001b[0;31m             \u001b[0mindexer\u001b[0m \u001b[0;34m=\u001b[0m \u001b[0mself\u001b[0m\u001b[0;34m.\u001b[0m\u001b[0mcolumns\u001b[0m\u001b[0;34m.\u001b[0m\u001b[0m_get_indexer_strict\u001b[0m\u001b[0;34m(\u001b[0m\u001b[0mkey\u001b[0m\u001b[0;34m,\u001b[0m \u001b[0;34m\"columns\"\u001b[0m\u001b[0;34m)\u001b[0m\u001b[0;34m[\u001b[0m\u001b[0;36m1\u001b[0m\u001b[0;34m]\u001b[0m\u001b[0;34m\u001b[0m\u001b[0;34m\u001b[0m\u001b[0m\n\u001b[0m\u001b[1;32m   4109\u001b[0m \u001b[0;34m\u001b[0m\u001b[0m\n\u001b[1;32m   4110\u001b[0m         \u001b[0;31m# take() does not accept boolean indexers\u001b[0m\u001b[0;34m\u001b[0m\u001b[0;34m\u001b[0m\u001b[0m\n",
            "\u001b[0;32m/usr/local/lib/python3.10/dist-packages/pandas/core/indexes/base.py\u001b[0m in \u001b[0;36m_get_indexer_strict\u001b[0;34m(self, key, axis_name)\u001b[0m\n\u001b[1;32m   6198\u001b[0m             \u001b[0mkeyarr\u001b[0m\u001b[0;34m,\u001b[0m \u001b[0mindexer\u001b[0m\u001b[0;34m,\u001b[0m \u001b[0mnew_indexer\u001b[0m \u001b[0;34m=\u001b[0m \u001b[0mself\u001b[0m\u001b[0;34m.\u001b[0m\u001b[0m_reindex_non_unique\u001b[0m\u001b[0;34m(\u001b[0m\u001b[0mkeyarr\u001b[0m\u001b[0;34m)\u001b[0m\u001b[0;34m\u001b[0m\u001b[0;34m\u001b[0m\u001b[0m\n\u001b[1;32m   6199\u001b[0m \u001b[0;34m\u001b[0m\u001b[0m\n\u001b[0;32m-> 6200\u001b[0;31m         \u001b[0mself\u001b[0m\u001b[0;34m.\u001b[0m\u001b[0m_raise_if_missing\u001b[0m\u001b[0;34m(\u001b[0m\u001b[0mkeyarr\u001b[0m\u001b[0;34m,\u001b[0m \u001b[0mindexer\u001b[0m\u001b[0;34m,\u001b[0m \u001b[0maxis_name\u001b[0m\u001b[0;34m)\u001b[0m\u001b[0;34m\u001b[0m\u001b[0;34m\u001b[0m\u001b[0m\n\u001b[0m\u001b[1;32m   6201\u001b[0m \u001b[0;34m\u001b[0m\u001b[0m\n\u001b[1;32m   6202\u001b[0m         \u001b[0mkeyarr\u001b[0m \u001b[0;34m=\u001b[0m \u001b[0mself\u001b[0m\u001b[0;34m.\u001b[0m\u001b[0mtake\u001b[0m\u001b[0;34m(\u001b[0m\u001b[0mindexer\u001b[0m\u001b[0;34m)\u001b[0m\u001b[0;34m\u001b[0m\u001b[0;34m\u001b[0m\u001b[0m\n",
            "\u001b[0;32m/usr/local/lib/python3.10/dist-packages/pandas/core/indexes/base.py\u001b[0m in \u001b[0;36m_raise_if_missing\u001b[0;34m(self, key, indexer, axis_name)\u001b[0m\n\u001b[1;32m   6247\u001b[0m         \u001b[0;32mif\u001b[0m \u001b[0mnmissing\u001b[0m\u001b[0;34m:\u001b[0m\u001b[0;34m\u001b[0m\u001b[0;34m\u001b[0m\u001b[0m\n\u001b[1;32m   6248\u001b[0m             \u001b[0;32mif\u001b[0m \u001b[0mnmissing\u001b[0m \u001b[0;34m==\u001b[0m \u001b[0mlen\u001b[0m\u001b[0;34m(\u001b[0m\u001b[0mindexer\u001b[0m\u001b[0;34m)\u001b[0m\u001b[0;34m:\u001b[0m\u001b[0;34m\u001b[0m\u001b[0;34m\u001b[0m\u001b[0m\n\u001b[0;32m-> 6249\u001b[0;31m                 \u001b[0;32mraise\u001b[0m \u001b[0mKeyError\u001b[0m\u001b[0;34m(\u001b[0m\u001b[0;34mf\"None of [{key}] are in the [{axis_name}]\"\u001b[0m\u001b[0;34m)\u001b[0m\u001b[0;34m\u001b[0m\u001b[0;34m\u001b[0m\u001b[0m\n\u001b[0m\u001b[1;32m   6250\u001b[0m \u001b[0;34m\u001b[0m\u001b[0m\n\u001b[1;32m   6251\u001b[0m             \u001b[0mnot_found\u001b[0m \u001b[0;34m=\u001b[0m \u001b[0mlist\u001b[0m\u001b[0;34m(\u001b[0m\u001b[0mensure_index\u001b[0m\u001b[0;34m(\u001b[0m\u001b[0mkey\u001b[0m\u001b[0;34m)\u001b[0m\u001b[0;34m[\u001b[0m\u001b[0mmissing_mask\u001b[0m\u001b[0;34m.\u001b[0m\u001b[0mnonzero\u001b[0m\u001b[0;34m(\u001b[0m\u001b[0;34m)\u001b[0m\u001b[0;34m[\u001b[0m\u001b[0;36m0\u001b[0m\u001b[0;34m]\u001b[0m\u001b[0;34m]\u001b[0m\u001b[0;34m.\u001b[0m\u001b[0munique\u001b[0m\u001b[0;34m(\u001b[0m\u001b[0;34m)\u001b[0m\u001b[0;34m)\u001b[0m\u001b[0;34m\u001b[0m\u001b[0;34m\u001b[0m\u001b[0m\n",
            "\u001b[0;31mKeyError\u001b[0m: \"None of [Index([1, 1, 0, 0, 0, 1, 1, 1, 0, 1,\\n       ...\\n       1, 1, 1, 1, 1, 1, 1, 1, 1, 1],\\n      dtype='int64', length=309)] are in the [columns]\""
          ]
        }
      ]
    },
    {
      "cell_type": "code",
      "source": [
        "# Calculate entropy for the 'AGE' variable\n",
        "entropy_values = calculate_entropy_for_age(df, \"LUNG_CANCER\")\n",
        "print(\"Entropy values for different split points of AGE:\", entropy_values)"
      ],
      "metadata": {
        "id": "eO4yWkGCsl6w"
      },
      "execution_count": null,
      "outputs": []
    },
    {
      "cell_type": "code",
      "source": [
        "# Compare\n",
        "X = df.drop(columns=[\"LUNG_CANCER\"])\n",
        "y = df[\"LUNG_CANCER\"]"
      ],
      "metadata": {
        "id": "uG8vC__8sunu"
      },
      "execution_count": null,
      "outputs": []
    },
    {
      "cell_type": "code",
      "source": [
        "# Iterate over all columns in X\n",
        "for col in X.columns:\n",
        "    if X[col].dtype == 'object':  # Check if the column is object\n",
        "        X[col] = le.fit_transform(X[col])  # Fit and transform\n"
      ],
      "metadata": {
        "id": "o35lXBv1sxnJ",
        "colab": {
          "base_uri": "https://localhost:8080/",
          "height": 193
        },
        "outputId": "21823811-21ea-47fa-c85e-ad0f45084b92"
      },
      "execution_count": null,
      "outputs": [
        {
          "output_type": "error",
          "ename": "NameError",
          "evalue": "name 'X' is not defined",
          "traceback": [
            "\u001b[0;31m---------------------------------------------------------------------------\u001b[0m",
            "\u001b[0;31mNameError\u001b[0m                                 Traceback (most recent call last)",
            "\u001b[0;32m<ipython-input-41-75cb94b93bab>\u001b[0m in \u001b[0;36m<cell line: 2>\u001b[0;34m()\u001b[0m\n\u001b[1;32m      1\u001b[0m \u001b[0;31m# Iterate over all columns in X\u001b[0m\u001b[0;34m\u001b[0m\u001b[0;34m\u001b[0m\u001b[0m\n\u001b[0;32m----> 2\u001b[0;31m \u001b[0;32mfor\u001b[0m \u001b[0mcol\u001b[0m \u001b[0;32min\u001b[0m \u001b[0mX\u001b[0m\u001b[0;34m.\u001b[0m\u001b[0mcolumns\u001b[0m\u001b[0;34m:\u001b[0m\u001b[0;34m\u001b[0m\u001b[0;34m\u001b[0m\u001b[0m\n\u001b[0m\u001b[1;32m      3\u001b[0m     \u001b[0;32mif\u001b[0m \u001b[0mX\u001b[0m\u001b[0;34m[\u001b[0m\u001b[0mcol\u001b[0m\u001b[0;34m]\u001b[0m\u001b[0;34m.\u001b[0m\u001b[0mdtype\u001b[0m \u001b[0;34m==\u001b[0m \u001b[0;34m'object'\u001b[0m\u001b[0;34m:\u001b[0m  \u001b[0;31m# Check if the column is object\u001b[0m\u001b[0;34m\u001b[0m\u001b[0;34m\u001b[0m\u001b[0m\n\u001b[1;32m      4\u001b[0m         \u001b[0mX\u001b[0m\u001b[0;34m[\u001b[0m\u001b[0mcol\u001b[0m\u001b[0;34m]\u001b[0m \u001b[0;34m=\u001b[0m \u001b[0mle\u001b[0m\u001b[0;34m.\u001b[0m\u001b[0mfit_transform\u001b[0m\u001b[0;34m(\u001b[0m\u001b[0mX\u001b[0m\u001b[0;34m[\u001b[0m\u001b[0mcol\u001b[0m\u001b[0;34m]\u001b[0m\u001b[0;34m)\u001b[0m  \u001b[0;31m# Fit and transform\u001b[0m\u001b[0;34m\u001b[0m\u001b[0;34m\u001b[0m\u001b[0m\n",
            "\u001b[0;31mNameError\u001b[0m: name 'X' is not defined"
          ]
        }
      ]
    },
    {
      "cell_type": "code",
      "source": [
        "\n",
        "clf = DecisionTreeClassifier(criterion='entropy')\n",
        "clf.fit(X, y)\n"
      ],
      "metadata": {
        "colab": {
          "base_uri": "https://localhost:8080/",
          "height": 158
        },
        "id": "vcnYcDVzszuw",
        "outputId": "f210945e-bbf7-4c3b-fb18-2a82d65c637e"
      },
      "execution_count": null,
      "outputs": [
        {
          "output_type": "error",
          "ename": "NameError",
          "evalue": "name 'X' is not defined",
          "traceback": [
            "\u001b[0;31m---------------------------------------------------------------------------\u001b[0m",
            "\u001b[0;31mNameError\u001b[0m                                 Traceback (most recent call last)",
            "\u001b[0;32m<ipython-input-42-78a8a655193c>\u001b[0m in \u001b[0;36m<cell line: 2>\u001b[0;34m()\u001b[0m\n\u001b[1;32m      1\u001b[0m \u001b[0mclf\u001b[0m \u001b[0;34m=\u001b[0m \u001b[0mDecisionTreeClassifier\u001b[0m\u001b[0;34m(\u001b[0m\u001b[0mcriterion\u001b[0m\u001b[0;34m=\u001b[0m\u001b[0;34m'entropy'\u001b[0m\u001b[0;34m)\u001b[0m\u001b[0;34m\u001b[0m\u001b[0;34m\u001b[0m\u001b[0m\n\u001b[0;32m----> 2\u001b[0;31m \u001b[0mclf\u001b[0m\u001b[0;34m.\u001b[0m\u001b[0mfit\u001b[0m\u001b[0;34m(\u001b[0m\u001b[0mX\u001b[0m\u001b[0;34m,\u001b[0m \u001b[0my\u001b[0m\u001b[0;34m)\u001b[0m\u001b[0;34m\u001b[0m\u001b[0;34m\u001b[0m\u001b[0m\n\u001b[0m",
            "\u001b[0;31mNameError\u001b[0m: name 'X' is not defined"
          ]
        }
      ]
    },
    {
      "cell_type": "code",
      "source": [
        "\n",
        "# Get the first split attribute\n",
        "first_split_attribute = X.columns[clf.tree_.feature[0]]\n",
        "print(\"First attribute chosen by DecisionTreeClassifier:\", first_split_attribute)"
      ],
      "metadata": {
        "colab": {
          "base_uri": "https://localhost:8080/",
          "height": 176
        },
        "id": "sM_WmlODs3ba",
        "outputId": "b51cf6d7-8532-478e-d262-e5b10eb27c39"
      },
      "execution_count": null,
      "outputs": [
        {
          "output_type": "error",
          "ename": "NameError",
          "evalue": "name 'X' is not defined",
          "traceback": [
            "\u001b[0;31m---------------------------------------------------------------------------\u001b[0m",
            "\u001b[0;31mNameError\u001b[0m                                 Traceback (most recent call last)",
            "\u001b[0;32m<ipython-input-43-131a13d1a6d1>\u001b[0m in \u001b[0;36m<cell line: 2>\u001b[0;34m()\u001b[0m\n\u001b[1;32m      1\u001b[0m \u001b[0;31m# Get the first split attribute\u001b[0m\u001b[0;34m\u001b[0m\u001b[0;34m\u001b[0m\u001b[0m\n\u001b[0;32m----> 2\u001b[0;31m \u001b[0mfirst_split_attribute\u001b[0m \u001b[0;34m=\u001b[0m \u001b[0mX\u001b[0m\u001b[0;34m.\u001b[0m\u001b[0mcolumns\u001b[0m\u001b[0;34m[\u001b[0m\u001b[0mclf\u001b[0m\u001b[0;34m.\u001b[0m\u001b[0mtree_\u001b[0m\u001b[0;34m.\u001b[0m\u001b[0mfeature\u001b[0m\u001b[0;34m[\u001b[0m\u001b[0;36m0\u001b[0m\u001b[0;34m]\u001b[0m\u001b[0;34m]\u001b[0m\u001b[0;34m\u001b[0m\u001b[0;34m\u001b[0m\u001b[0m\n\u001b[0m\u001b[1;32m      3\u001b[0m \u001b[0mprint\u001b[0m\u001b[0;34m(\u001b[0m\u001b[0;34m\"First attribute chosen by DecisionTreeClassifier:\"\u001b[0m\u001b[0;34m,\u001b[0m \u001b[0mfirst_split_attribute\u001b[0m\u001b[0;34m)\u001b[0m\u001b[0;34m\u001b[0m\u001b[0;34m\u001b[0m\u001b[0m\n",
            "\u001b[0;31mNameError\u001b[0m: name 'X' is not defined"
          ]
        }
      ]
    },
    {
      "cell_type": "code",
      "source": [],
      "metadata": {
        "id": "SpMp-Cie3gR5"
      },
      "execution_count": null,
      "outputs": []
    }
  ]
}