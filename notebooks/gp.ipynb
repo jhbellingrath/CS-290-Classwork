{
  "nbformat": 4,
  "nbformat_minor": 0,
  "metadata": {
    "colab": {
      "provenance": [],
      "include_colab_link": true
    },
    "kernelspec": {
      "name": "python3",
      "display_name": "Python 3"
    },
    "language_info": {
      "name": "python"
    }
  },
  "cells": [
    {
      "cell_type": "markdown",
      "metadata": {
        "id": "view-in-github",
        "colab_type": "text"
      },
      "source": [
        "<a href=\"https://colab.research.google.com/github/jhbellingrath/CS-290-Classwork/blob/main/notebooks/gp.ipynb\" target=\"_parent\"><img src=\"https://colab.research.google.com/assets/colab-badge.svg\" alt=\"Open In Colab\"/></a>"
      ]
    },
    {
      "cell_type": "code",
      "source": [
        "import pandas as pd\n",
        "import numpy as np\n",
        "from sklearn.tree import DecisionTreeRegressor\n",
        "from sklearn.tree import DecisionTreeClassifier\n",
        "from sklearn.preprocessing import LabelEncoder\n",
        "from sklearn import tree\n",
        "import math\n",
        "import matplotlib.pyplot as plt"
      ],
      "metadata": {
        "id": "tWvb4HwcrsNU"
      },
      "execution_count": null,
      "outputs": []
    },
    {
      "cell_type": "code",
      "execution_count": null,
      "metadata": {
        "id": "T7S6b-p8qiYG"
      },
      "outputs": [],
      "source": [
        "df=pd.read_csv('https://raw.githubusercontent.com/jhbellingrath/CS-290-Classwork/refs/heads/main/data/survey%20lung%20cancer.csv')"
      ]
    },
    {
      "cell_type": "code",
      "source": [
        "target=\"LUNG_CANCER\""
      ],
      "metadata": {
        "id": "bqnygyHUrtt1"
      },
      "execution_count": null,
      "outputs": []
    },
    {
      "cell_type": "code",
      "source": [
        "attributes=df.columns[df.columns!=target]\n",
        "attributes=attributes.drop(\"AGE\")\n",
        "attributes"
      ],
      "metadata": {
        "colab": {
          "base_uri": "https://localhost:8080/"
        },
        "id": "46Ux4OsHsGdK",
        "outputId": "6ed44c11-c16c-4585-ea7f-1293a7a418b0"
      },
      "execution_count": null,
      "outputs": [
        {
          "output_type": "execute_result",
          "data": {
            "text/plain": [
              "Index(['GENDER', 'SMOKING', 'YELLOW_FINGERS', 'ANXIETY', 'PEER_PRESSURE',\n",
              "       'CHRONIC DISEASE', 'FATIGUE ', 'ALLERGY ', 'WHEEZING',\n",
              "       'ALCOHOL CONSUMING', 'COUGHING', 'SHORTNESS OF BREATH',\n",
              "       'SWALLOWING DIFFICULTY', 'CHEST PAIN'],\n",
              "      dtype='object')"
            ]
          },
          "metadata": {},
          "execution_count": 6
        }
      ]
    },
    {
      "cell_type": "code",
      "source": [
        "# entropy function for qualitative\n",
        "def entropy(attribute):\n",
        "  entropy = 0\n",
        "  total = len( df )\n",
        "  vals = df[attribute].unique()\n",
        "  for val in vals:\n",
        "    counts = len(df[ df[attribute] == val ])\n",
        "    weight = counts / total\n",
        "    props = df[ df[attribute] == val ][target].value_counts( normalize=True )\n",
        "  for p in props.array:\n",
        "    entropy =  entropy - weight*(p*math.log2(p))\n",
        "  return entropy"
      ],
      "metadata": {
        "id": "NFTX7ClysHwA"
      },
      "execution_count": null,
      "outputs": []
    },
    {
      "cell_type": "code",
      "source": [
        "# Gini function\n",
        "def gini(attribute):\n",
        "  impurities=[]\n",
        "  vals=df[attribute].unique()\n",
        "  for val in vals:\n",
        "    impurity=0\n",
        "    impurity_left=1\n",
        "    weight=len(df[df[attribute]>=val])/len(df)\n",
        "    counts=(df[df[attribute]>=val][target].value_counts())\n",
        "    for count in counts.array:\n",
        "      impurity_left-=((count/(len(df)*weight))**2)\n",
        "    impurity+=impurity_left*weight\n",
        "    impurity_right=1\n",
        "    weight=len(df[df[attribute]<val])/len(df)\n",
        "    counts=(df[df[attribute]<val][target].value_counts())\n",
        "    for count in counts.array:\n",
        "      impurity_right-=((count/(len(df)*weight))**2)\n",
        "    impurity+=impurity_right*weight\n",
        "    impurities.append([impurity,val])\n",
        "  impurities.sort()\n",
        "  return impurities[0][0]"
      ],
      "metadata": {
        "id": "KK5ibtSQsLgV"
      },
      "execution_count": null,
      "outputs": []
    },
    {
      "cell_type": "code",
      "source": [
        "gini(\"ALLERGY \")"
      ],
      "metadata": {
        "colab": {
          "base_uri": "https://localhost:8080/"
        },
        "id": "R4mdjAuhWIwz",
        "outputId": "9dccdfb3-14fb-434a-c8e7-b6c945225b66"
      },
      "execution_count": null,
      "outputs": [
        {
          "output_type": "execute_result",
          "data": {
            "text/plain": [
              "0.19687181202855122"
            ]
          },
          "metadata": {},
          "execution_count": 42
        }
      ]
    },
    {
      "cell_type": "code",
      "source": [
        "#  entropy for a quantitative variable\n",
        "def entropy_quantitative(attribute):\n",
        "  entropies=[]\n",
        "  total = len(df)\n",
        "  vals = df[attribute].unique()\n",
        "  for val in vals:\n",
        "    entropy_value = 0\n",
        "    # Left split\n",
        "    left = df[df[attribute] <= val][[attribute, target]]\n",
        "    props = left[target].value_counts(normalize=True)\n",
        "    weight = len(left) / total\n",
        "    for prop in props.array:\n",
        "      entropy_value -= weight * prop * math.log2(prop)\n",
        "\n",
        "    # Right split\n",
        "    right = df[df[attribute] > val][[attribute, target]]\n",
        "    props = right[target].value_counts(normalize=True)\n",
        "    weight = len(right) / total\n",
        "    for prop in props.array:\n",
        "      entropy_value -= weight * prop * math.log2(prop)\n",
        "\n",
        "    entropies.append([entropy_value,val])\n",
        "  entropies.sort()\n",
        "  return entropies[0]\n",
        "  #returns a list of [entropy value,split value]"
      ],
      "metadata": {
        "id": "KCr_6hrWsRzE"
      },
      "execution_count": null,
      "outputs": []
    },
    {
      "cell_type": "code",
      "source": [
        "def Attribute_selection_method(data,task,target,impurity_measure):\n",
        "  attributes=data.columns[data.columns!=target]\n",
        "  if task==\"classification\":\n",
        "    if impurity_measure==\"entropy\":\n",
        "      entropies=[]\n",
        "      for attribute in attributes:\n",
        "        if len(data[attribute].unique())<5:\n",
        "          entropies.append([entropy(attribute),attribute])\n",
        "        else:\n",
        "          entropies.append(entropy_quantitative(attribute))\n",
        "      entropies.sort()\n",
        "      return \"The best attribute is \"+entropies[0][1]\n",
        "    if impurity_measure==\"gini\":\n",
        "      ginis=[]\n",
        "      for attribute in attributes:\n",
        "        ginis.append([gini(attribute),attribute])\n",
        "      ginis.sort()\n",
        "      return ginis\n",
        "      return \"The best attribute is \"+ginis[0][1]"
      ],
      "metadata": {
        "id": "KbhNCCFOUD3Y"
      },
      "execution_count": null,
      "outputs": []
    },
    {
      "cell_type": "code",
      "source": [
        "Attribute_selection_method(df,\"classification\",\"LUNG_CANCER\",\"gini\")"
      ],
      "metadata": {
        "colab": {
          "base_uri": "https://localhost:8080/"
        },
        "id": "p5nX7Y-0Wbbw",
        "outputId": "52f0c7cc-e032-441b-d590-c78e105e7d6d"
      },
      "execution_count": null,
      "outputs": [
        {
          "output_type": "execute_result",
          "data": {
            "text/plain": [
              "[[0.19687181202855122, 'ALLERGY '],\n",
              " [0.2022049431995164, 'ALCOHOL CONSUMING'],\n",
              " [0.2056880629067421, 'SWALLOWING DIFFICULTY'],\n",
              " [0.20685907250322627, 'WHEEZING'],\n",
              " [0.20693922338441517, 'COUGHING'],\n",
              " [0.21256713795768778, 'CHEST PAIN'],\n",
              " [0.2129048527419966, 'PEER_PRESSURE'],\n",
              " [0.21331434278547207, 'YELLOW_FINGERS'],\n",
              " [0.21556004554899105, 'FATIGUE '],\n",
              " [0.21560963308536127, 'AGE'],\n",
              " [0.21593339325879257, 'ANXIETY'],\n",
              " [0.21785516131604077, 'CHRONIC DISEASE'],\n",
              " [0.21956978884086303, 'GENDER'],\n",
              " [0.21975373431684128, 'SHORTNESS OF BREATH'],\n",
              " [0.219820869859928, 'SMOKING']]"
            ]
          },
          "metadata": {},
          "execution_count": 48
        }
      ]
    },
    {
      "cell_type": "code",
      "source": [
        "# LabelEncoder\n",
        "le = LabelEncoder()"
      ],
      "metadata": {
        "id": "rd_s2uT6sc3v"
      },
      "execution_count": null,
      "outputs": []
    },
    {
      "cell_type": "code",
      "source": [
        "# target variable\n",
        "df[\"LUNG_CANCER\"] = le.fit_transform(df[\"LUNG_CANCER\"])"
      ],
      "metadata": {
        "id": "1Vw9Ie-1sfoA"
      },
      "execution_count": null,
      "outputs": []
    },
    {
      "cell_type": "code",
      "source": [
        "# Compare\n",
        "X = df.drop(columns=[\"LUNG_CANCER\"])\n",
        "y = df[\"LUNG_CANCER\"]"
      ],
      "metadata": {
        "id": "uG8vC__8sunu"
      },
      "execution_count": null,
      "outputs": []
    },
    {
      "cell_type": "code",
      "source": [
        "# Iterate over all columns in X\n",
        "for col in X.columns:\n",
        "    if X[col].dtype == 'object':  # Check if the column is object\n",
        "        X[col] = le.fit_transform(X[col])  # Fit and transform\n"
      ],
      "metadata": {
        "id": "o35lXBv1sxnJ"
      },
      "execution_count": null,
      "outputs": []
    },
    {
      "cell_type": "code",
      "source": [
        "clf = DecisionTreeClassifier(criterion='gini', max_depth=2)\n",
        "clf.fit(X, y)\n",
        "plt.figure(figsize=(12, 8))\n",
        "tree.plot_tree(clf, filled=True, feature_names=X.columns)\n",
        "plt.show()"
      ],
      "metadata": {
        "colab": {
          "base_uri": "https://localhost:8080/",
          "height": 653
        },
        "id": "vcnYcDVzszuw",
        "outputId": "2be7c9af-bb50-4afc-85d5-7591a4cf4483"
      },
      "execution_count": null,
      "outputs": [
        {
          "output_type": "display_data",
          "data": {
            "text/plain": [
              "<Figure size 1200x800 with 1 Axes>"
            ],
            "image/png": "[encoded data removed]"
          },
          "metadata": {}
        }
      ]
    },
    {
      "cell_type": "code",
      "source": [
        "# Get the first split attribute\n",
        "first_split_attribute = X.columns[clf.tree_.feature[0]]\n",
        "print(\"First attribute chosen by DecisionTreeClassifier:\", first_split_attribute)"
      ],
      "metadata": {
        "id": "sM_WmlODs3ba",
        "colab": {
          "base_uri": "https://localhost:8080/"
        },
        "outputId": "28db3484-a84b-431e-8e1d-0083de24e8af"
      },
      "execution_count": null,
      "outputs": [
        {
          "output_type": "stream",
          "name": "stdout",
          "text": [
            "First attribute chosen by DecisionTreeClassifier: ALLERGY \n"
          ]
        }
      ]
    },
    {
      "cell_type": "code",
      "source": [
        "df2=pd.read_csv('https://raw.githubusercontent.com/jhbellingrath/CS-290-Classwork/refs/heads/main/data/Housing_Prices.csv')"
      ],
      "metadata": {
        "id": "SpMp-Cie3gR5"
      },
      "execution_count": null,
      "outputs": []
    },
    {
      "cell_type": "code",
      "source": [
        "df2.head()"
      ],
      "metadata": {
        "id": "zrQDKwlKMjcJ"
      },
      "execution_count": null,
      "outputs": []
    },
    {
      "cell_type": "code",
      "source": [
        "target_2 = \"price\"\n",
        "#target"
      ],
      "metadata": {
        "id": "YbJINwNTMpSk"
      },
      "execution_count": null,
      "outputs": []
    },
    {
      "cell_type": "code",
      "source": [
        "def mean_squared_error(y_true, y_pred):\n",
        "    return np.mean((y_true - y_pred) ** 2)\n",
        "#mean squared error function\n",
        "#difference between the predicted and actual values\n",
        "#calculates the mean squared error\n",
        "#np mean is the average of all the squares"
      ],
      "metadata": {
        "id": "2dcTyNXUblSp"
      },
      "execution_count": null,
      "outputs": []
    },
    {
      "cell_type": "code",
      "source": [
        "def best_split(attribute, target):\n",
        "    unique_values = np.unique(attribute) #get all unique vals from attribute\n",
        "    best_mse = float('inf') #positive infinity to store lowest mse so far\n",
        "    best_value = None #stores the lowest mse overall"
      ],
      "metadata": {
        "id": "_FBW4NNabsKZ"
      },
      "execution_count": null,
      "outputs": []
    },
    {
      "cell_type": "code",
      "source": [
        "def best_split(attribute, target):\n",
        "    unique_values = np.unique(attribute) #get all unique vals from attribute\n",
        "    best_mse = float('inf') #positive infinity to store lowest mse so far\n",
        "    best_value = None #stores the lowest mse overall\n",
        "\n",
        "    for value in unique_values:#goes through eah unique value\n",
        "        left_mask = attribute <= value #boolean mask is true when attribute is <= current value\n",
        "        right_mask = attribute > value #opposite of the other one duh\n",
        "\n",
        "        if np.any(left_mask) and np.any(right_mask): #makes sure there is one point left and right\n",
        "            y_left = target[left_mask] #gets the target vals that match the data in the left\n",
        "            y_right = target[right_mask] #the opposite\n",
        "            mse = (mean_squared_error(y_left, y_left.mean()) * len(y_left) + mean_squared_error(y_right, y_right.mean()) * len(y_right)) / len(target)\n",
        "            #stupid math you can probably do ina better way than my small brain\n",
        "            #cal the weighted avg for the split, did it for left and right and then combione them based on num of datapoints in each subset\n",
        "            #crazy that the comment is shorter than that dumb math\n",
        "            #pls simplify this\n",
        "            if mse < best_mse: #i feel like i dont need to explain this to you fat brain\n",
        "                best_mse = mse\n",
        "                best_value = value\n",
        "\n",
        "    return best_value, best_mse #same with this"
      ],
      "metadata": {
        "id": "pUbmKeM1bvss"
      },
      "execution_count": null,
      "outputs": []
    },
    {
      "cell_type": "code",
      "source": [
        "def Attribute_selection_method(task, dataset, target_variable): #find the best attribute to split on\n",
        "\n",
        "\n",
        "\n",
        "    df = pd.DataFrame(dataset) # convert dataset into pandas\n",
        "\n",
        "\n",
        "    X = df.drop(columns=[target_variable]) #new dataset that doesnt have price\n",
        "    y = df[target_variable].values # target varibale into numpy array\n",
        "\n",
        "    best_overall_mse = float('inf') #same as when i did this earleir\n",
        "    best_attribute = None #also same\n",
        "\n",
        "    for column in X.columns: #goes through each attribute in x\n",
        "        value, mse = best_split(X[column].values, y) #calls best split to find best split on current column\n",
        "        if mse < best_overall_mse:#durp durp durp durp durp duhhhhhhhhh\n",
        "            best_overall_mse = mse\n",
        "            best_attribute = column\n",
        "\n",
        "\n",
        "    tree = DecisionTreeRegressor(max_depth=1) #\n",
        "    tree.fit(X, y)\n",
        "\n",
        "    first_split_attribute = X.columns[tree.tree_.feature[0]]\n",
        "\n",
        "    return best_attribute, first_split_attribute"
      ],
      "metadata": {
        "id": "fX7FzAZGb-ZJ"
      },
      "execution_count": null,
      "outputs": []
    },
    {
      "cell_type": "code",
      "source": [
        "url = \"https://raw.githubusercontent.com/jhbellingrath/CS-290-Classwork/refs/heads/main/data/Housing_Prices.csv\"\n",
        "data = pd.read_csv(url)\n",
        "#getting data cuhhhhh"
      ],
      "metadata": {
        "id": "08y4-Fr2cDLU"
      },
      "execution_count": null,
      "outputs": []
    },
    {
      "cell_type": "code",
      "source": [
        "best_attribute, first_split = Attribute_selection_method(\"regression\", data, \"price\")\n",
        "print(\"Best attribute for split:\", best_attribute)\n",
        "print(\"First split by DecisionTreeRegressor:\", first_split)\n",
        "#printing all my stuff yurrrrr\n",
        "#still not sure if this is how to use sklearn or not but its probably"
      ],
      "metadata": {
        "colab": {
          "base_uri": "https://localhost:8080/"
        },
        "id": "YWVpOBNGcFXO",
        "outputId": "e0bb115d-bd2b-43ff-aa27-725413b98631"
      },
      "execution_count": null,
      "outputs": [
        {
          "output_type": "stream",
          "name": "stdout",
          "text": [
            "Best attribute for split: sqft_living\n",
            "First split by DecisionTreeRegressor: sqft_living\n"
          ]
        }
      ]
    },
    {
      "cell_type": "code",
      "source": [],
      "metadata": {
        "id": "OsJApQwEcHma"
      },
      "execution_count": null,
      "outputs": []
    }
  ]
}